{
 "cells": [
  {
   "cell_type": "markdown",
   "metadata": {},
   "source": [
    "# 基于多层耦合创新网络的关键核心技术识别\n",
    "\n",
    "这个 Notebook 集成了网络数据处理与分析的多个执行步骤，包括数据收集、预处理、分析和可视化。\n",
    "\n",
    "## 目录\n",
    "1. [环境设置与导入库](#1-环境设置与导入库)\n",
    "2. [数据收集](#2-数据收集)\n",
    "3. [数据预处理](#3-数据预处理)\n",
    "4. [网络分析](#4-网络分析)\n",
    "5. [数据可视化](#5-数据可视化)\n",
    "6. [结果导出](#6-结果导出)"
   ]
  },
  {
   "cell_type": "markdown",
   "metadata": {},
   "source": [
    "## 1. 原始数据清洗"
   ]
  },
  {
   "cell_type": "markdown",
   "metadata": {},
   "source": [
    "将所有英文字母转化为小写字母（防止漏掉重复值）,只保留“公开（公告）号、引文专利公开号、施引专利公开号、IPC分类、专利权人”五列数据；\n",
    "删除无IPC号和乱码数据；\n",
    "删除“公开（公告）号”列的重复值；\n",
    "删除个人申请专利"
   ]
  },
  {
   "cell_type": "code",
   "execution_count": 7,
   "metadata": {
    "ExecuteTime": {
     "end_time": "2025-05-26T12:12:10.844539Z",
     "start_time": "2025-05-26T12:12:10.758704Z"
    }
   },
   "outputs": [
    {
     "name": "stdout",
     "output_type": "stream",
     "text": [
      "🚀 开始数据清洗...\n",
      "数据清洗失败：[Errno 2] No such file or directory: '..\\\\data\\\\input\\\\original_patent_data.xlsx'\n",
      "数据处理异常：[Errno 2] No such file or directory: '..\\\\data\\\\step1_output\\\\patent_data_cleaned.xlsx'\n",
      "✅ 数据清洗完成！\n"
     ]
    }
   ],
   "source": [
    "# 1. 导入必要的库\n",
    "import pandas as pd\n",
    "from pathlib import Path\n",
    "\n",
    "# 2. 设置数据路径（确保和你的文件结构一致）\n",
    "DATA_DIR = Path(\"./data\")\n",
    "\n",
    "# 3. 从 step1 的两个文件导入函数\n",
    "from algorithms.step_1_clean_patent_data import clean_patent_data\n",
    "from algorithms.step_1_remove_personal_application import remove_personal_applications\n",
    "\n",
    "# 4. 直接调用函数（无需修改原函数代码）\n",
    "print(\"🚀 开始数据清洗...\")\n",
    "clean_patent_data()                # 执行第一步清洗\n",
    "remove_personal_applications()     # 执行第二步清洗\n",
    "print(\"✅ 数据清洗完成！\")"
   ]
  },
  {
   "cell_type": "markdown",
   "metadata": {},
   "source": [
    "## 2. 多层耦合创新网络构建\n",
    "\n",
    "这一步骤包括构建知识网络、技术网络、合作研发网络三个网络层和知识-技术网络、知识-合作研发网络、技术-合作研发网络三个层间网络"
   ]
  },
  {
   "cell_type": "code",
   "execution_count": null,
   "metadata": {},
   "outputs": [],
   "source": []
  },
  {
   "cell_type": "markdown",
   "metadata": {},
   "source": [
    "## 3. 网络层权重计算\n",
    "\n",
    "使用多pagerank中心性算法计算出网络层中心性，得到网络层权重。"
   ]
  },
  {
   "cell_type": "code",
   "execution_count": null,
   "metadata": {},
   "outputs": [],
   "source": []
  },
  {
   "cell_type": "markdown",
   "metadata": {},
   "source": [
    "## 4. 节点关键性计算\n",
    "\n",
    "节点在多层耦合创新网络中的结构洞"
   ]
  },
  {
   "cell_type": "code",
   "execution_count": null,
   "metadata": {},
   "outputs": [],
   "source": []
  },
  {
   "cell_type": "markdown",
   "metadata": {},
   "source": [
    "## 5. 节点核心性计算\n",
    "\n",
    "节点在多层耦合创新网络中的中心度"
   ]
  },
  {
   "cell_type": "code",
   "execution_count": null,
   "metadata": {},
   "outputs": [],
   "source": []
  },
  {
   "cell_type": "markdown",
   "metadata": {},
   "source": [
    "## 6. 指标权重计算\n",
    "\n",
    "读取三个网络层内节点名称及节点的关键性和核心性数据，构建关键性和核心性数据库"
   ]
  },
  {
   "cell_type": "code",
   "execution_count": null,
   "metadata": {},
   "outputs": [],
   "source": []
  },
  {
   "cell_type": "markdown",
   "metadata": {},
   "source": [
    "## 7.节点关键核心性计算"
   ]
  },
  {
   "cell_type": "markdown",
   "metadata": {},
   "source": [
    "读取关键性和核心性数据库、指标权重，计算节点关键核心性"
   ]
  },
  {
   "cell_type": "code",
   "execution_count": null,
   "metadata": {},
   "outputs": [],
   "source": []
  },
  {
   "cell_type": "markdown",
   "metadata": {},
   "source": [
    "## 总结\n",
    "\n",
    "这个 Notebook 提供了一个完整的网络数据处理与分析流程：\n",
    "\n",
    "1. **环境设置**: 导入必要的库并配置环境\n",
    "2. **数据收集**: 生成或加载网络数据\n",
    "3. **数据预处理**: 清理和准备数据\n",
    "4. **网络分析**: 计算各种网络指标\n",
    "5. **数据可视化**: 创建图表展示分析结果\n",
    "6. **结果导出**: 保存处理后的数据和分析结果\n",
    "\n",
    "您可以根据具体需求修改和扩展这些步骤。"
   ]
  }
 ],
 "metadata": {
  "kernelspec": {
   "display_name": "Python 3 (ipykernel)",
   "language": "python",
   "name": "python3"
  },
  "language_info": {
   "codemirror_mode": {
    "name": "ipython",
    "version": 3
   },
   "file_extension": ".py",
   "mimetype": "text/x-python",
   "name": "python",
   "nbconvert_exporter": "python",
   "pygments_lexer": "ipython3",
   "version": "3.10.1"
  }
 },
 "nbformat": 4,
 "nbformat_minor": 4
}
