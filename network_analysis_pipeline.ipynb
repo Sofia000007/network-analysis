{
 "cells": [
  {
   "cell_type": "markdown",
   "metadata": {},
   "source": [
    "# 网络数据处理与分析完整流程\n",
    "\n",
    "本 notebook 将 util 文件夹中的各个步骤串联在一起，实现从原始专利数据到网络分析的完整流程。\n",
    "\n",
    "## 流程概述\n",
    "\n",
    "1. **数据预处理**\n",
    "   - 清洗专利数据\n",
    "   - 去除个人申请\n",
    "\n",
    "2. **网络构建**\n",
    "   - 知识网络构建\n",
    "   - 技术网络构建\n",
    "   - 协作研发网络构建\n",
    "   - 跨层耦合网络构建\n",
    "\n",
    "3. **网络分析**\n",
    "   - 网络层权重计算\n",
    "   - 结构洞耦合分析\n",
    "   - 关键性指数计算\n",
    "   - 中心性指数计算\n",
    "   - 综合数据库构建"
   ]
  },
  {
   "cell_type": "markdown",
   "metadata": {},
   "source": [
    "## 环境设置和导入"
   ]
  },
  {
   "cell_type": "code",
   "execution_count": 1,
   "metadata": {},
   "outputs": [
    {
     "name": "stdout",
     "output_type": "stream",
     "text": [
      "正在导入模块...\n"
     ]
    }
   ],
   "source": [
    "import sys\n",
    "import os\n",
    "import warnings\n",
    "import importlib.util\n",
    "warnings.filterwarnings('ignore')\n",
    "\n",
    "# 添加 util 目录到 Python 路径\n",
    "sys.path.append('./util')\n",
    "\n",
    "print(\"正在导入模块...\")"
   ]
  },
  {
   "cell_type": "code",
   "execution_count": 4,
   "metadata": {},
   "outputs": [
    {
     "name": "stdout",
     "output_type": "stream",
     "text": [
      "✓ 基础模块导入成功\n"
     ]
    }
   ],
   "source": [
    "# 导入基础步骤的函数\n",
    "try:\n",
    "    from util.step_1_clean_patent_data import clean_patent_data\n",
    "    from util.step_1_remove_personal_application import remove_personal_applications\n",
    "    from util.step_2_knowledge_network_construction import construct_knowledge_network\n",
    "    from util.step_2_technology_network_construction import construct_technology_network\n",
    "    from util.step_2_collaborative_RD_network_construction import construct_collaborative_network\n",
    "    print(\"✓ 基础模块导入成功\")\n",
    "except ImportError as e:\n",
    "    print(f\"✗ 基础模块导入失败: {e}\")"
   ]
  },
  {
   "cell_type": "code",
   "execution_count": 8,
   "metadata": {},
   "outputs": [
    {
     "name": "stdout",
     "output_type": "stream",
     "text": [
      "✓ 跨层网络模块导入成功\n"
     ]
    }
   ],
   "source": [
    "# 动态导入带连字符的模块\n",
    "def import_module_with_dash(module_path, function_name):\n",
    "    \"\"\"导入文件名包含特殊字符的模块\"\"\"\n",
    "    try:\n",
    "        spec = importlib.util.spec_from_file_location(\"temp_module\", module_path)\n",
    "        module = importlib.util.module_from_spec(spec)\n",
    "        spec.loader.exec_module(module)\n",
    "        return getattr(module, function_name)\n",
    "    except Exception as e:\n",
    "        print(f\"导入 {module_path} 失败: {e}\")\n",
    "        return None\n",
    "\n",
    "# 导入跨层网络构建函数\n",
    "construct_knowledge_technology_network = import_module_with_dash(\n",
    "    'util/step_2_knowledge-technology_network_construction.py', \n",
    "    'construct_knowledge_technology_network'\n",
    ")\n",
    "\n",
    "construct_technology_collaborative_network = import_module_with_dash(\n",
    "    'util/step_2_technology-collaborative_RD_network_construction.py', \n",
    "    'construct_tech_collaborative_network'\n",
    ")\n",
    "\n",
    "construct_knowledge_collaborative_network = import_module_with_dash(\n",
    "    'util/step_2_knowledge-collaborative_RD_network_construction.py', \n",
    "    'construct_knowledge_collaborative_network'\n",
    ")\n",
    "\n",
    "if all([construct_knowledge_technology_network, \n",
    "        construct_technology_collaborative_network, \n",
    "        construct_knowledge_collaborative_network]):\n",
    "    print(\"✓ 跨层网络模块导入成功\")\n",
    "else:\n",
    "    print(\"✗ 部分跨层网络模块导入失败\")"
   ]
  },
  {
   "cell_type": "code",
   "execution_count": 11,
   "metadata": {},
   "outputs": [
    {
     "name": "stdout",
     "output_type": "stream",
     "text": [
      "✗ 分析模块导入失败: cannot import name 'construct_structural_hole_database' from 'util.step_4_structural_hole_coupling_database_construction' (/Users/zhangxudong/Gits/network/util/step_4_structural_hole_coupling_database_construction.py)\n",
      "\n",
      "所有模块导入完成！\n"
     ]
    }
   ],
   "source": [
    "# 导入分析步骤的函数\n",
    "try:\n",
    "    from util.step_3_network_layer_weights import calculate_network_weights\n",
    "    from util.step_4_structural_hole_coupling_calculation import calculate_structural_hole\n",
    "    from util.step_4_structural_hole_coupling_database_construction import build_structural_hole_database\n",
    "    from util.step_4_criticality_index_calculation import calculate_criticality\n",
    "    from util.step_5_centrality_coupling_calculation import calculate_centrality_coupling\n",
    "    from util.step_5_centrality_coupling_database_construction import build_centrality_coupling_database\n",
    "    from util.step_5_centrality_index_calculation import calculate_centrality_index\n",
    "    from util.step_6_criticality_and_centrality_database_construction import build_criticality_centrality_database\n",
    "    print(\"✓ 分析模块导入成功\")\n",
    "except ImportError as e:\n",
    "    print(f\"✗ 分析模块导入失败: {e}\")\n",
    "\n",
    "print(\"\\n所有模块导入完成！\")"
   ]
  },
  {
   "cell_type": "markdown",
   "metadata": {},
   "source": [
    "## 第一步：数据预处理\n",
    "\n",
    "### 1.1 清洗专利数据"
   ]
  },
  {
   "cell_type": "code",
   "execution_count": null,
   "metadata": {},
   "outputs": [],
   "source": [
    "print(\"=== 步骤 1.1: 清洗专利数据 ===\")\n",
    "try:\n",
    "    result_1_1 = clean_patent_data()\n",
    "    print(f\"结果: {result_1_1}\")\n",
    "except Exception as e:\n",
    "    print(f\"执行失败: {e}\")\n",
    "    result_1_1 = f\"执行失败: {e}\"\n",
    "print(\"\\n\" + \"=\"*50 + \"\\n\")"
   ]
  },
  {
   "cell_type": "markdown",
   "metadata": {},
   "source": [
    "### 1.2 去除个人申请"
   ]
  },
  {
   "cell_type": "code",
   "execution_count": null,
   "metadata": {},
   "outputs": [],
   "source": [
    "print(\"=== 步骤 1.2: 去除个人申请 ===\")\n",
    "try:\n",
    "    result_1_2 = remove_personal_applications()\n",
    "    print(f\"结果: {result_1_2}\")\n",
    "except Exception as e:\n",
    "    print(f\"执行失败: {e}\")\n",
    "    result_1_2 = f\"执行失败: {e}\"\n",
    "print(\"\\n\" + \"=\"*50 + \"\\n\")"
   ]
  },
  {
   "cell_type": "markdown",
   "metadata": {},
   "source": [
    "## 第二步：网络构建\n",
    "\n",
    "### 2.1 单层网络构建"
   ]
  },
  {
   "cell_type": "code",
   "execution_count": null,
   "metadata": {},
   "outputs": [],
   "source": [
    "print(\"=== 步骤 2.1: 知识网络构建 ===\")\n",
    "try:\n",
    "    result_2_1 = construct_knowledge_network()\n",
    "    print(f\"结果: {result_2_1}\")\n",
    "except Exception as e:\n",
    "    print(f\"执行失败: {e}\")\n",
    "    result_2_1 = f\"执行失败: {e}\"\n",
    "print(\"\\n\" + \"=\"*50 + \"\\n\")"
   ]
  },
  {
   "cell_type": "code",
   "execution_count": null,
   "metadata": {},
   "outputs": [],
   "source": [
    "print(\"=== 步骤 2.2: 技术网络构建 ===\")\n",
    "try:\n",
    "    result_2_2 = construct_technology_network()\n",
    "    print(f\"结果: {result_2_2}\")\n",
    "except Exception as e:\n",
    "    print(f\"执行失败: {e}\")\n",
    "    result_2_2 = f\"执行失败: {e}\"\n",
    "print(\"\\n\" + \"=\"*50 + \"\\n\")"
   ]
  },
  {
   "cell_type": "code",
   "execution_count": null,
   "metadata": {},
   "outputs": [],
   "source": [
    "print(\"=== 步骤 2.3: 协作研发网络构建 ===\")\n",
    "try:\n",
    "    result_2_3 = construct_collaborative_network()\n",
    "    print(f\"结果: {result_2_3}\")\n",
    "except Exception as e:\n",
    "    print(f\"执行失败: {e}\")\n",
    "    result_2_3 = f\"执行失败: {e}\"\n",
    "print(\"\\n\" + \"=\"*50 + \"\\n\")"
   ]
  },
  {
   "cell_type": "markdown",
   "metadata": {},
   "source": [
    "### 2.2 跨层耦合网络构建"
   ]
  },
  {
   "cell_type": "code",
   "execution_count": null,
   "metadata": {},
   "outputs": [],
   "source": [
    "print(\"=== 步骤 2.4: 知识-技术耦合网络构建 ===\")\n",
    "try:\n",
    "    if construct_knowledge_technology_network:\n",
    "        result_2_4 = construct_knowledge_technology_network()\n",
    "        print(f\"结果: {result_2_4}\")\n",
    "    else:\n",
    "        result_2_4 = \"函数导入失败\"\n",
    "        print(\"函数导入失败\")\n",
    "except Exception as e:\n",
    "    print(f\"执行失败: {e}\")\n",
    "    result_2_4 = f\"执行失败: {e}\"\n",
    "print(\"\\n\" + \"=\"*50 + \"\\n\")"
   ]
  },
  {
   "cell_type": "code",
   "execution_count": null,
   "metadata": {},
   "outputs": [],
   "source": [
    "print(\"=== 步骤 2.5: 技术-协作研发耦合网络构建 ===\")\n",
    "try:\n",
    "    if construct_technology_collaborative_network:\n",
    "        result_2_5 = construct_technology_collaborative_network()\n",
    "        print(f\"结果: {result_2_5}\")\n",
    "    else:\n",
    "        result_2_5 = \"函数导入失败\"\n",
    "        print(\"函数导入失败\")\n",
    "except Exception as e:\n",
    "    print(f\"执行失败: {e}\")\n",
    "    result_2_5 = f\"执行失败: {e}\"\n",
    "print(\"\\n\" + \"=\"*50 + \"\\n\")"
   ]
  },
  {
   "cell_type": "code",
   "execution_count": null,
   "metadata": {},
   "outputs": [],
   "source": [
    "print(\"=== 步骤 2.6: 知识-协作研发耦合网络构建 ===\")\n",
    "try:\n",
    "    if construct_knowledge_collaborative_network:\n",
    "        result_2_6 = construct_knowledge_collaborative_network()\n",
    "        print(f\"结果: {result_2_6}\")\n",
    "    else:\n",
    "        result_2_6 = \"函数导入失败\"\n",
    "        print(\"函数导入失败\")\n",
    "except Exception as e:\n",
    "    print(f\"执行失败: {e}\")\n",
    "    result_2_6 = f\"执行失败: {e}\"\n",
    "print(\"\\n\" + \"=\"*50 + \"\\n\")"
   ]
  },
  {
   "cell_type": "markdown",
   "metadata": {},
   "source": [
    "## 第三步：网络层权重计算"
   ]
  },
  {
   "cell_type": "code",
   "execution_count": null,
   "metadata": {},
   "outputs": [],
   "source": [
    "print(\"=== 步骤 3: 网络层权重计算 ===\")\n",
    "try:\n",
    "    result_3 = calculate_network_weights()\n",
    "    print(f\"结果: {result_3}\")\n",
    "except Exception as e:\n",
    "    print(f\"执行失败: {e}\")\n",
    "    result_3 = f\"执行失败: {e}\"\n",
    "print(\"\\n\" + \"=\"*50 + \"\\n\")"
   ]
  },
  {
   "cell_type": "markdown",
   "metadata": {},
   "source": [
    "## 第四步：结构洞耦合分析和关键性指数计算\n",
    "\n",
    "### 4.1 结构洞耦合计算"
   ]
  },
  {
   "cell_type": "code",
   "execution_count": null,
   "metadata": {},
   "outputs": [],
   "source": [
    "print(\"=== 步骤 4.1: 结构洞耦合计算 ===\")\n",
    "try:\n",
    "    result_4_1 = calculate_structural_hole()\n",
    "    print(f\"结果: {result_4_1}\")\n",
    "except Exception as e:\n",
    "    print(f\"执行失败: {e}\")\n",
    "    result_4_1 = f\"执行失败: {e}\"\n",
    "print(\"\\n\" + \"=\"*50 + \"\\n\")"
   ]
  },
  {
   "cell_type": "markdown",
   "metadata": {},
   "source": [
    "### 4.2 结构洞耦合数据库构建"
   ]
  },
  {
   "cell_type": "code",
   "execution_count": null,
   "metadata": {},
   "outputs": [],
   "source": [
    "print(\"=== 步骤 4.2: 结构洞耦合数据库构建 ===\")\n",
    "try:\n",
    "    result_4_2 = construct_structural_hole_database()\n",
    "    print(f\"结果: {result_4_2}\")\n",
    "except Exception as e:\n",
    "    print(f\"执行失败: {e}\")\n",
    "    result_4_2 = f\"执行失败: {e}\"\n",
    "print(\"\\n\" + \"=\"*50 + \"\\n\")"
   ]
  },
  {
   "cell_type": "markdown",
   "metadata": {},
   "source": [
    "### 4.3 关键性指数计算"
   ]
  },
  {
   "cell_type": "code",
   "execution_count": null,
   "metadata": {},
   "outputs": [],
   "source": [
    "print(\"=== 步骤 4.3: 关键性指数计算 ===\")\n",
    "try:\n",
    "    result_4_3 = calculate_criticality()\n",
    "    print(f\"结果: {result_4_3}\")\n",
    "except Exception as e:\n",
    "    print(f\"执行失败: {e}\")\n",
    "    result_4_3 = f\"执行失败: {e}\"\n",
    "print(\"\\n\" + \"=\"*50 + \"\\n\")"
   ]
  },
  {
   "cell_type": "markdown",
   "metadata": {},
   "source": [
    "## 第五步：中心性耦合分析和中心性指数计算\n",
    "\n",
    "### 5.1 中心性耦合计算"
   ]
  },
  {
   "cell_type": "code",
   "execution_count": null,
   "metadata": {},
   "outputs": [],
   "source": [
    "print(\"=== 步骤 5.1: 中心性耦合计算 ===\")\n",
    "try:\n",
    "    result_5_1 = calculate_centrality_coupling()\n",
    "    print(f\"结果: {result_5_1}\")\n",
    "except Exception as e:\n",
    "    print(f\"执行失败: {e}\")\n",
    "    result_5_1 = f\"执行失败: {e}\"\n",
    "print(\"\\n\" + \"=\"*50 + \"\\n\")"
   ]
  },
  {
   "cell_type": "markdown",
   "metadata": {},
   "source": [
    "### 5.2 中心性耦合数据库构建"
   ]
  },
  {
   "cell_type": "code",
   "execution_count": null,
   "metadata": {},
   "outputs": [],
   "source": [
    "print(\"=== 步骤 5.2: 中心性耦合数据库构建 ===\")\n",
    "try:\n",
    "    result_5_2 = construct_centrality_database()\n",
    "    print(f\"结果: {result_5_2}\")\n",
    "except Exception as e:\n",
    "    print(f\"执行失败: {e}\")\n",
    "    result_5_2 = f\"执行失败: {e}\"\n",
    "print(\"\\n\" + \"=\"*50 + \"\\n\")"
   ]
  },
  {
   "cell_type": "markdown",
   "metadata": {},
   "source": [
    "### 5.3 中心性指数计算"
   ]
  },
  {
   "cell_type": "code",
   "execution_count": null,
   "metadata": {},
   "outputs": [],
   "source": [
    "print(\"=== 步骤 5.3: 中心性指数计算 ===\")\n",
    "try:\n",
    "    result_5_3 = calculate_centrality_index()\n",
    "    print(f\"结果: {result_5_3}\")\n",
    "except Exception as e:\n",
    "    print(f\"执行失败: {e}\")\n",
    "    result_5_3 = f\"执行失败: {e}\"\n",
    "print(\"\\n\" + \"=\"*50 + \"\\n\")"
   ]
  },
  {
   "cell_type": "markdown",
   "metadata": {},
   "source": [
    "## 第六步：综合数据库构建"
   ]
  },
  {
   "cell_type": "code",
   "execution_count": null,
   "metadata": {},
   "outputs": [],
   "source": [
    "print(\"=== 步骤 6: 关键性和中心性综合数据库构建 ===\")\n",
    "try:\n",
    "    result_6 = construct_final_database()\n",
    "    print(f\"结果: {result_6}\")\n",
    "except Exception as e:\n",
    "    print(f\"执行失败: {e}\")\n",
    "    result_6 = f\"执行失败: {e}\"\n",
    "print(\"\\n\" + \"=\"*50 + \"\\n\")"
   ]
  },
  {
   "cell_type": "markdown",
   "metadata": {},
   "source": [
    "## 流程总结和结果展示\n",
    "\n",
    "### 执行结果汇总"
   ]
  },
  {
   "cell_type": "code",
   "execution_count": null,
   "metadata": {},
   "outputs": [],
   "source": [
    "print(\"=== 网络分析流程执行完成 ===\")\n",
    "print(\"\\n各步骤执行结果汇总:\")\n",
    "print(\"\\n1. 数据预处理:\")\n",
    "print(f\"   1.1 数据清洗: {result_1_1.split('\\n')[0] if 'result_1_1' in locals() else '未执行'}\")\n",
    "print(f\"   1.2 去除个人申请: {result_1_2.split('\\n')[0] if 'result_1_2' in locals() else '未执行'}\")\n",
    "\n",
    "print(\"\\n2. 网络构建:\")\n",
    "print(f\"   2.1 知识网络: {result_2_1.split('\\n')[0] if 'result_2_1' in locals() else '未执行'}\")\n",
    "print(f\"   2.2 技术网络: {result_2_2.split('\\n')[0] if 'result_2_2' in locals() else '未执行'}\")\n",
    "print(f\"   2.3 协作研发网络: {result_2_3.split('\\n')[0] if 'result_2_3' in locals() else '未执行'}\")\n",
    "print(f\"   2.4 知识-技术耦合: {result_2_4.split('\\n')[0] if 'result_2_4' in locals() else '未执行'}\")\n",
    "print(f\"   2.5 技术-协作耦合: {result_2_5.split('\\n')[0] if 'result_2_5' in locals() else '未执行'}\")\n",
    "print(f\"   2.6 知识-协作耦合: {result_2_6.split('\\n')[0] if 'result_2_6' in locals() else '未执行'}\")\n",
    "\n",
    "print(\"\\n3. 网络分析:\")\n",
    "print(f\"   3.1 网络权重计算: {result_3.split('\\n')[0] if 'result_3' in locals() else '未执行'}\")\n",
    "print(f\"   4.1 结构洞耦合: {result_4_1.split('\\n')[0] if 'result_4_1' in locals() else '未执行'}\")\n",
    "print(f\"   4.2 结构洞数据库: {result_4_2.split('\\n')[0] if 'result_4_2' in locals() else '未执行'}\")\n",
    "print(f\"   4.3 关键性指数: {result_4_3.split('\\n')[0] if 'result_4_3' in locals() else '未执行'}\")\n",
    "print(f\"   5.1 中心性耦合: {result_5_1.split('\\n')[0] if 'result_5_1' in locals() else '未执行'}\")\n",
    "print(f\"   5.2 中心性数据库: {result_5_2.split('\\n')[0] if 'result_5_2' in locals() else '未执行'}\")\n",
    "print(f\"   5.3 中心性指数: {result_5_3.split('\\n')[0] if 'result_5_3' in locals() else '未执行'}\")\n",
    "print(f\"   6.1 综合数据库: {result_6.split('\\n')[0] if 'result_6' in locals() else '未执行'}\")\n",
    "\n",
    "print(\"\\n=== 流程执行完毕 ===\")"
   ]
  },
  {
   "cell_type": "markdown",
   "metadata": {},
   "source": [
    "### 数据文件结构查看"
   ]
  },
  {
   "cell_type": "code",
   "execution_count": null,
   "metadata": {},
   "outputs": [],
   "source": [
    "import pandas as pd\n",
    "import os\n",
    "\n",
    "def show_data_structure():\n",
    "    \"\"\"展示生成的数据文件结构\"\"\"\n",
    "    data_dir = './data'\n",
    "    \n",
    "    if not os.path.exists(data_dir):\n",
    "        print(\"数据目录不存在\")\n",
    "        return\n",
    "    \n",
    "    print(\"=== 数据文件结构 ===\")\n",
    "    \n",
    "    for root, dirs, files in os.walk(data_dir):\n",
    "        level = root.replace(data_dir, '').count(os.sep)\n",
    "        indent = ' ' * 2 * level\n",
    "        print(f\"{indent}{os.path.basename(root)}/\")\n",
    "        \n",
    "        subindent = ' ' * 2 * (level + 1)\n",
    "        for file in files:\n",
    "            if file.endswith(('.xlsx', '.csv', '.txt')):\n",
    "                file_path = os.path.join(root, file)\n",
    "                try:\n",
    "                    if file.endswith('.xlsx'):\n",
    "                        df = pd.read_excel(file_path)\n",
    "                        print(f\"{subindent}{file} ({len(df)} 行, {len(df.columns)} 列)\")\n",
    "                    elif file.endswith('.csv'):\n",
    "                        df = pd.read_csv(file_path)\n",
    "                        print(f\"{subindent}{file} ({len(df)} 行, {len(df.columns)} 列)\")\n",
    "                    else:\n",
    "                        print(f\"{subindent}{file}\")\n",
    "                except Exception as e:\n",
    "                    print(f\"{subindent}{file} (读取失败: {str(e)[:50]}...)\")\n",
    "\n",
    "show_data_structure()"
   ]
  },
  {
   "cell_type": "markdown",
   "metadata": {},
   "source": [
    "### 关键结果文件预览"
   ]
  },
  {
   "cell_type": "code",
   "execution_count": null,
   "metadata": {},
   "outputs": [],
   "source": [
    "def preview_key_results():\n",
    "    \"\"\"预览关键结果文件\"\"\"\n",
    "    key_files = [\n",
    "        './data/step6_output/criticality_and_centrality_database.xlsx',\n",
    "        './data/step5_output/centrality_coupling_database.xlsx',\n",
    "        './data/step4_output/structural_hole_coupling_database.xlsx',\n",
    "        './data/step3_output/network_layer_weights.txt'\n",
    "    ]\n",
    "    \n",
    "    for file_path in key_files:\n",
    "        if os.path.exists(file_path):\n",
    "            print(f\"\\n=== {os.path.basename(file_path)} ===\")\n",
    "            try:\n",
    "                if file_path.endswith('.xlsx'):\n",
    "                    df = pd.read_excel(file_path)\n",
    "                    print(f\"数据形状: {df.shape}\")\n",
    "                    print(f\"列名: {list(df.columns)}\")\n",
    "                    print(\"前5行数据:\")\n",
    "                    print(df.head())\n",
    "                elif file_path.endswith('.txt'):\n",
    "                    with open(file_path, 'r') as f:\n",
    "                        content = f.read()\n",
    "                    print(f\"文件内容: {content}\")\n",
    "            except Exception as e:\n",
    "                print(f\"读取失败: {str(e)}\")\n",
    "        else:\n",
    "            print(f\"\\n文件不存在: {file_path}\")\n",
    "\n",
    "preview_key_results()"
   ]
  },
  {
   "cell_type": "markdown",
   "metadata": {},
   "source": [
    "## 可选：单独执行某个步骤\n",
    "\n",
    "如果需要单独执行某个步骤，可以使用下面的代码块："
   ]
  },
  {
   "cell_type": "code",
   "execution_count": null,
   "metadata": {},
   "outputs": [],
   "source": [
    "# 示例：单独执行某个步骤\n",
    "# 取消注释下面的代码来执行特定步骤\n",
    "\n",
    "# 执行数据清洗\n",
    "# clean_patent_data()\n",
    "\n",
    "# 执行知识网络构建\n",
    "# construct_knowledge_network()\n",
    "\n",
    "# 执行权重计算\n",
    "# calculate_network_weights()\n",
    "\n",
    "print(\"可以根据需要取消注释上面的代码来单独执行特定步骤\")"
   ]
  },
  {
   "cell_type": "markdown",
   "metadata": {},
   "source": [
    "## 批量执行所有步骤\n",
    "\n",
    "如果想要一次性执行所有步骤，可以运行下面的代码："
   ]
  },
  {
   "cell_type": "code",
   "execution_count": null,
   "metadata": {},
   "outputs": [],
   "source": [
    "def run_full_pipeline():\n",
    "    \"\"\"执行完整的分析流程\"\"\"\n",
    "    steps = [\n",
    "        (\"1.1 数据清洗\", clean_patent_data),\n",
    "        (\"1.2 去除个人申请\", remove_personal_applications),\n",
    "        (\"2.1 知识网络构建\", construct_knowledge_network),\n",
    "        (\"2.2 技术网络构建\", construct_technology_network),\n",
    "        (\"2.3 协作研发网络构建\", construct_collaborative_network),\n",
    "        (\"2.4 知识-技术耦合网络\", construct_knowledge_technology_network),\n",
    "        (\"2.5 技术-协作耦合网络\", construct_technology_collaborative_network),\n",
    "        (\"2.6 知识-协作耦合网络\", construct_knowledge_collaborative_network),\n",
    "        (\"3.1 网络权重计算\", calculate_network_weights),\n",
    "        (\"4.1 结构洞耦合计算\", calculate_structural_hole_coupling),\n",
    "        (\"4.2 结构洞数据库构建\", construct_structural_hole_database),\n",
    "        (\"4.3 关键性指数计算\", calculate_criticality),\n",
    "        (\"5.1 中心性耦合计算\", calculate_centrality_coupling),\n",
    "        (\"5.2 中心性数据库构建\", construct_centrality_database),\n",
    "        (\"5.3 中心性指数计算\", calculate_centrality_index),\n",
    "        (\"6.1 综合数据库构建\", construct_final_database),\n",
    "    ]\n",
    "    \n",
    "    results = {}\n",
    "    \n",
    "    for step_name, step_func in steps:\n",
    "        print(f\"\\n=== 执行步骤: {step_name} ===\")\n",
    "        try:\n",
    "            if step_func is not None:\n",
    "                result = step_func()\n",
    "                results[step_name] = \"成功\"\n",
    "                print(f\"✓ {step_name} 执行成功\")\n",
    "            else:\n",
    "                results[step_name] = \"函数未导入\"\n",
    "                print(f\"✗ {step_name} 函数未导入\")\n",
    "        except Exception as e:\n",
    "            results[step_name] = f\"失败: {str(e)[:100]}\"\n",
    "            print(f\"✗ {step_name} 执行失败: {e}\")\n",
    "    \n",
    "    print(\"\\n=== 执行结果汇总 ===\")\n",
    "    for step_name, result in results.items():\n",
    "        status = \"✓\" if result == \"成功\" else \"✗\"\n",
    "        print(f\"{status} {step_name}: {result}\")\n",
    "    \n",
    "    return results\n",
    "\n",
    "# 取消注释下面的行来执行完整流程\n",
    "# pipeline_results = run_full_pipeline()\n",
    "\n",
    "print(\"取消注释上面的代码来执行完整的分析流程\")"
   ]
  },
  {
   "cell_type": "markdown",
   "metadata": {},
   "source": [
    "## 注意事项\n",
    "\n",
    "1. **数据文件路径**: 确保原始数据文件 `original_patent_data.xlsx` 位于 `./data/input/` 目录下\n",
    "\n",
    "2. **依赖关系**: 各步骤之间存在依赖关系，建议按顺序执行\n",
    "\n",
    "3. **错误处理**: 如果某个步骤执行失败，请检查:\n",
    "   - 输入文件是否存在\n",
    "   - 数据格式是否正确\n",
    "   - 必要的列是否存在\n",
    "\n",
    "4. **性能考虑**: 某些步骤（如去除个人申请）可能需要较长时间，请耐心等待\n",
    "\n",
    "5. **结果文件**: 所有结果文件将保存在 `./data/` 目录的相应子文件夹中\n",
    "\n",
    "6. **模块导入**: 由于某些文件名包含特殊字符，使用了动态导入方式\n",
    "\n",
    "7. **环境要求**: 确保已安装所有必要的 Python 包（pandas, numpy, networkx, requests, beautifulsoup4, googletrans, tqdm 等）"
   ]
  }
 ],
 "metadata": {
  "kernelspec": {
   "display_name": ".venv",
   "language": "python",
   "name": "python3"
  },
  "language_info": {
   "codemirror_mode": {
    "name": "ipython",
    "version": 3
   },
   "file_extension": ".py",
   "mimetype": "text/x-python",
   "name": "python",
   "nbconvert_exporter": "python",
   "pygments_lexer": "ipython3",
   "version": "3.11.12"
  }
 },
 "nbformat": 4,
 "nbformat_minor": 4
}
