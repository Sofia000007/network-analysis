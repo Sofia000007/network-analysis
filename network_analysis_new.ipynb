{
 "cells": [
  {
   "cell_type": "markdown",
   "id": "874d90b1",
   "metadata": {},
   "source": [
    "# 基于多层耦合创新网络的关键核心技术识别\n",
    "\n",
    "本 notebook 实现了基于多层耦合创新网络的关键核心技术识别的完整流程。"
   ]
  },
  {
   "cell_type": "code",
   "id": "7ebd8bc5",
   "metadata": {
    "ExecuteTime": {
     "end_time": "2025-05-26T13:14:42.754752Z",
     "start_time": "2025-05-26T13:14:42.392320Z"
    }
   },
   "source": [
    "# 导入基础依赖\n",
    "import pandas as pd\n",
    "import numpy as np\n",
    "from pathlib import Path\n",
    "\n",
    "# 设置数据路径\n",
    "DATA_DIR = Path(\"data\")\n",
    "INPUT_DIR = DATA_DIR / \"input\"\n",
    "OUTPUT_DIR = DATA_DIR / \"output\"\n",
    "\n",
    "# 确保输出目录存在\n",
    "OUTPUT_DIR.mkdir(parents=True, exist_ok=True)"
   ],
   "outputs": [],
   "execution_count": 1
  },
  {
   "cell_type": "markdown",
   "id": "8a934cd4",
   "metadata": {},
   "source": [
    "## 1. 原始数据清洗\n",
    "\n",
    "- 将所有英文字母转化为小写字母\n",
    "- 只保留关键列数据\n",
    "- 删除无效数据和重复值\n",
    "- 删除个人申请专利"
   ]
  },
  {
   "cell_type": "code",
   "id": "fc643d34",
   "metadata": {
    "ExecuteTime": {
     "end_time": "2025-05-26T13:14:47.917882Z",
     "start_time": "2025-05-26T13:14:47.709597Z"
    }
   },
   "source": [
    "from algorithms.step_1_clean_patent_data import clean_patent_data\n",
    "from algorithms.step_1_remove_personal_application import remove_personal_applications\n",
    "\n",
    "print(\"🚀 开始数据清洗...\")\n",
    "clean_patent_data()\n",
    "remove_personal_applications()\n",
    "print(\"✅ 数据清洗完成！\")"
   ],
   "outputs": [
    {
     "name": "stdout",
     "output_type": "stream",
     "text": [
      "🚀 开始数据清洗...\n",
      "数据清洗失败：[Errno 2] No such file or directory: '..\\\\data\\\\input\\\\original_patent_data.xlsx'\n",
      "数据处理异常：Excel file format cannot be determined, you must specify an engine manually.\n",
      "✅ 数据清洗完成！\n"
     ]
    }
   ],
   "execution_count": 2
  },
  {
   "cell_type": "markdown",
   "id": "136b4969",
   "metadata": {},
   "source": [
    "## 2. 多层耦合创新网络构建\n",
    "\n",
    "构建三个网络层：\n",
    "- 知识网络\n",
    "- 技术网络\n",
    "- 合作研发网络\n",
    "\n",
    "构建三个层间网络：\n",
    "- 知识-技术网络\n",
    "- 知识-合作研发网络\n",
    "- 技术-合作研发网络"
   ]
  },
  {
   "cell_type": "code",
   "execution_count": null,
   "id": "31b3877d",
   "metadata": {},
   "outputs": [],
   "source": [
    "# 导入网络构建函数\n",
    "from algorithms.step_2_knowledge_network_construction import construct_knowledge_network\n",
    "from algorithms.step_2_technology_network_construction import construct_technology_network\n",
    "from algorithms.step_2_collaborative_R&D_network_construction import construct_collaborative_network\n",
    "from algorithms.step_2_knowledge_technology_network_construction import construct_knowledge_technology_network\n",
    "from algorithms.step_2_knowledge_collaborative_R&D_network_construction import construct_knowledge_collaborative_network\n",
    "from algorithms.step_2_technology_collaborative_R&D_network_construction import construct_technology_collaborative_network\n",
    "\n",
    "print(\"🚀 开始构建多层耦合创新网络...\")\n",
    "\n",
    "# 构建三个网络层\n",
    "construct_knowledge_network()\n",
    "construct_technology_network()\n",
    "construct_collaborative_network()\n",
    "\n",
    "# 构建三个层间网络\n",
    "construct_knowledge_technology_network()\n",
    "construct_knowledge_collaborative_network()\n",
    "construct_technology_collaborative_network()\n",
    "\n",
    "print(\"✅ 多层耦合创新网络构建完成！\")"
   ]
  },
  {
   "cell_type": "markdown",
   "id": "8f7cc65c",
   "metadata": {},
   "source": [
    "## 3. 网络层权重计算\n",
    "\n",
    "使用多pagerank中心性算法计算网络层权重"
   ]
  },
  {
   "cell_type": "code",
   "execution_count": null,
   "id": "dde45d85",
   "metadata": {},
   "outputs": [],
   "source": [
    "from algorithms.step_3_network_layer_weights import calculate_network_layer_weights\n",
    "\n",
    "print(\"🚀 开始计算网络层权重...\")\n",
    "calculate_network_layer_weights()\n",
    "print(\"✅ 网络层权重计算完成！\")"
   ]
  },
  {
   "cell_type": "markdown",
   "id": "c6780c9f",
   "metadata": {},
   "source": [
    "## 4. 节点关键性计算\n",
    "\n",
    "计算节点在多层耦合创新网络中的结构洞"
   ]
  },
  {
   "cell_type": "code",
   "execution_count": null,
   "id": "c14c4d4c",
   "metadata": {},
   "outputs": [],
   "source": [
    "from algorithms.step_4_criticality_index_calculation import calculate_criticality_index\n",
    "from algorithms.step_4_structural_hole_coupling_calculation import calculate_structural_hole_coupling\n",
    "from algorithms.step_4_structural_hole_coupling_database_construction import construct_structural_hole_database\n",
    "\n",
    "print(\"🚀 开始计算节点关键性...\")\n",
    "\n",
    "# 计算结构洞耦合\n",
    "calculate_structural_hole_coupling()\n",
    "\n",
    "# 构建结构洞耦合数据库\n",
    "construct_structural_hole_database()\n",
    "\n",
    "# 计算关键性指标\n",
    "calculate_criticality_index()\n",
    "\n",
    "print(\"✅ 节点关键性计算完成！\")"
   ]
  },
  {
   "cell_type": "markdown",
   "id": "bffd9510",
   "metadata": {},
   "source": [
    "## 5. 节点核心性计算\n",
    "\n",
    "计算节点在多层耦合创新网络中的中心度"
   ]
  },
  {
   "cell_type": "code",
   "execution_count": null,
   "id": "053f5e0d",
   "metadata": {},
   "outputs": [],
   "source": [
    "from algorithms.step_5_centrality_index_calculation import calculate_centrality_index\n",
    "from algorithms.step_5_centrality_coupling_calculation import calculate_centrality_coupling\n",
    "from algorithms.step_5_centrality_coupling_database_construction import construct_centrality_database\n",
    "\n",
    "print(\"🚀 开始计算节点核心性...\")\n",
    "\n",
    "# 计算中心性耦合\n",
    "calculate_centrality_coupling()\n",
    "\n",
    "# 构建中心性耦合数据库\n",
    "construct_centrality_database()\n",
    "\n",
    "# 计算核心性指标\n",
    "calculate_centrality_index()\n",
    "\n",
    "print(\"✅ 节点核心性计算完成！\")"
   ]
  },
  {
   "cell_type": "markdown",
   "id": "1ca08d5f",
   "metadata": {},
   "source": [
    "## 6. 指标权重计算\n",
    "\n",
    "构建关键性和核心性数据库，计算指标权重"
   ]
  },
  {
   "cell_type": "code",
   "execution_count": null,
   "id": "5b5c349e",
   "metadata": {},
   "outputs": [],
   "source": [
    "from algorithms.step_6_index_weights import calculate_index_weights\n",
    "from algorithms.step_6_criticality_and_centrality_database_construction import construct_criticality_centrality_database\n",
    "\n",
    "print(\"🚀 开始计算指标权重...\")\n",
    "\n",
    "# 构建关键性和核心性数据库\n",
    "construct_criticality_centrality_database()\n",
    "\n",
    "# 计算指标权重\n",
    "calculate_index_weights()\n",
    "\n",
    "print(\"✅ 指标权重计算完成！\")"
   ]
  },
  {
   "cell_type": "markdown",
   "id": "07cd8baf",
   "metadata": {},
   "source": [
    "## 7. 节点关键核心性计算\n",
    "\n",
    "读取关键性和核心性数据库、指标权重，计算节点关键核心性"
   ]
  },
  {
   "cell_type": "code",
   "execution_count": null,
   "id": "bdc8d900",
   "metadata": {},
   "outputs": [],
   "source": [
    "from algorithms.step_7_criticality_centrality_index_calculation import calculate_criticality_centrality_index\n",
    "\n",
    "print(\"🚀 开始计算节点关键核心性...\")\n",
    "calculate_criticality_centrality_index()\n",
    "print(\"✅ 节点关键核心性计算完成！\")"
   ]
  },
  {
   "cell_type": "markdown",
   "id": "1eab97f5",
   "metadata": {},
   "source": [
    "## 总结\n",
    "\n",
    "本 notebook 实现了完整的网络分析流程：\n",
    "\n",
    "1. **原始数据清洗**: 清理专利数据，删除个人申请专利\n",
    "2. **多层耦合创新网络构建**: 构建三个网络层和三个层间网络\n",
    "3. **网络层权重计算**: 使用多pagerank中心性算法计算网络层权重\n",
    "4. **节点关键性计算**: 计算结构洞耦合和关键性指标\n",
    "5. **节点核心性计算**: 计算中心性耦合和核心性指标\n",
    "6. **指标权重计算**: 构建关键性和核心性数据库，计算指标权重\n",
    "7. **节点关键核心性计算**: 最终计算节点的关键核心性\n",
    "\n",
    "每个步骤都有相应的函数实现，可以根据需要单独运行或按顺序执行完整流程。"
   ]
  }
 ],
 "metadata": {
  "kernelspec": {
   "name": "python3",
   "language": "python",
   "display_name": "Python 3 (ipykernel)"
  }
 },
 "nbformat": 4,
 "nbformat_minor": 5
}
